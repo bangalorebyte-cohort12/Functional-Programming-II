{
 "cells": [
  {
   "cell_type": "markdown",
   "metadata": {},
   "source": [
    "## Functional Programming Section"
   ]
  },
  {
   "cell_type": "markdown",
   "metadata": {},
   "source": [
    "## Challenge 1: Map() \n",
    "\n",
    "Functional Programming with map(). Write a program that takes a filename and\n",
    "\"cleans\" the file by removing all leading and trailing whitespace from each line. Read\n",
    "in the original file and write out a new one, either creating a new file or overwriting\n",
    "the existing one. Give your user the option to pick which of the two to perform.\n",
    "Convert your solution to using list comprehensions."
   ]
  },
  {
   "cell_type": "markdown",
   "metadata": {},
   "source": [
    "## Challenge 2\n",
    "\n",
    "Let’s say you run a company and you’ve just decided to give all your employees a $10,000.00 raise. Implement this functional programming. "
   ]
  },
  {
   "cell_type": "markdown",
   "metadata": {},
   "source": [
    "## Challenge 3"
   ]
  },
  {
   "cell_type": "markdown",
   "metadata": {},
   "source": [
    "Creata a dummy database on Excel that has data about a clothing store invetory which has the following columns:"
   ]
  },
  {
   "cell_type": "code",
   "execution_count": null,
   "metadata": {
    "collapsed": true
   },
   "outputs": [],
   "source": [
    "\n",
    "ID|Size|Style|Units|Color\n",
    " 1   M     1    10  Black"
   ]
  },
  {
   "cell_type": "markdown",
   "metadata": {},
   "source": [
    "Answer the following questions using both list comprehension\n",
    "and generator expression:\n",
    "    \n",
    "- Which IDs belong to Medium Red shirts are there in inventory?\n",
    "- How many units of Black, White and Blue shirts are there?\n",
    "- How many unique colors are in inventory?\n",
    "- Which IDs belong to only Large sizes?\n"
   ]
  },
  {
   "cell_type": "code",
   "execution_count": null,
   "metadata": {
    "collapsed": true
   },
   "outputs": [],
   "source": []
  }
 ],
 "metadata": {
  "kernelspec": {
   "display_name": "Python 3",
   "language": "python",
   "name": "python3"
  },
  "language_info": {
   "codemirror_mode": {
    "name": "ipython",
    "version": 3
   },
   "file_extension": ".py",
   "mimetype": "text/x-python",
   "name": "python",
   "nbconvert_exporter": "python",
   "pygments_lexer": "ipython3",
   "version": "3.6.1"
  }
 },
 "nbformat": 4,
 "nbformat_minor": 2
}
